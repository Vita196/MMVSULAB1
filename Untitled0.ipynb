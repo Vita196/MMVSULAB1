{
  "nbformat": 4,
  "nbformat_minor": 0,
  "metadata": {
    "colab": {
      "provenance": [],
      "authorship_tag": "ABX9TyPJDSgpOHzEoQmz/9CYrVVR",
      "include_colab_link": true
    },
    "kernelspec": {
      "name": "python3",
      "display_name": "Python 3"
    },
    "language_info": {
      "name": "python"
    }
  },
  "cells": [
    {
      "cell_type": "markdown",
      "metadata": {
        "id": "view-in-github",
        "colab_type": "text"
      },
      "source": [
        "<a href=\"https://colab.research.google.com/github/Vita196/MMVSULAB1/blob/main/Untitled0.ipynb\" target=\"_parent\"><img src=\"https://colab.research.google.com/assets/colab-badge.svg\" alt=\"Open In Colab\"/></a>"
      ]
    },
    {
      "cell_type": "code",
      "execution_count": 1,
      "metadata": {
        "colab": {
          "base_uri": "https://localhost:8080/",
          "height": 265
        },
        "id": "XomJBUVEeDF3",
        "outputId": "054ebdc9-be02-47de-a3a5-fb6de13dff4b"
      },
      "outputs": [
        {
          "output_type": "display_data",
          "data": {
            "text/plain": [
              "<Figure size 432x288 with 1 Axes>"
            ],
            "image/png": "[encoded data removed]"
          },
          "metadata": {
            "needs_background": "light"
          }
        }
      ],
      "source": [
        "\n",
        "import matplotlib.pyplot as plt\n",
        "import numpy as np\n",
        "from scipy.integrate import odeint\n",
        "def dydt(x, t):\n",
        "  k=0.42\n",
        "  return k*x\n",
        "t=np.linspace(0, 10, 100)\n",
        "solve=odeint(dydt, 1, t=t)\n",
        "solve=solve.flatten()\n",
        "%matplotlib inline\n",
        "plt.plot(t, solve, label=r\"$x'=kx$\")\n",
        "plt.grid(True)\n",
        "plt.legend()\n",
        "plt.show()\n"
      ]
    },
    {
      "cell_type": "markdown",
      "source": [
        "Уравнение 2"
      ],
      "metadata": {
        "id": "4jDqZvBBeRdj"
      }
    },
    {
      "cell_type": "code",
      "source": [
        "\n",
        "import matplotlib.pyplot as plt\n",
        "import numpy as np\n",
        "from scipy.integrate import odeint\n",
        "A=2\n",
        "B=7\n",
        "def dydt(x, t):\n",
        "  return k(x)*x\n",
        "def k(x):\n",
        "  return A*x-B\n",
        "t=np.linspace(0, 10, 100)\n",
        "solve=odeint(dydt, 1, t=t)\n",
        "solve=solve.flatten()\n",
        "%matplotlib inline\n",
        "plt.plot(t, solve, label=r\"$x'=kx$\")\n",
        "plt.grid(True)\n",
        "plt.legend()\n",
        "plt.show()"
      ],
      "metadata": {
        "colab": {
          "base_uri": "https://localhost:8080/",
          "height": 265
        },
        "id": "_P3q1ka-ei5X",
        "outputId": "7e648b23-ed3f-4b7a-ec50-a0b6c469f4bf"
      },
      "execution_count": 5,
      "outputs": [
        {
          "output_type": "display_data",
          "data": {
            "text/plain": [
              "<Figure size 432x288 with 1 Axes>"
            ],
            "image/png": "[encoded data removed]"
          },
          "metadata": {
            "needs_background": "light"
          }
        }
      ]
    },
    {
      "cell_type": "markdown",
      "source": [
        "Уравнение 3"
      ],
      "metadata": {
        "id": "4APn1z49fVan"
      }
    },
    {
      "cell_type": "code",
      "source": [
        "import matplotlib.pyplot as plt\n",
        "import numpy as np\n",
        "from scipy.integrate import odeint\n",
        "def dydt(x, t):\n",
        "  k=0.42\n",
        "  return k*x\n",
        "t=np.linspace(0, 10, 100)\n",
        "solve=odeint(dydt, 1, t=t)\n",
        "solve=solve.flatten()\n",
        "%matplotlib inline\n",
        "plt.plot(t, solve, label=r\"$x'=kx$\")\n",
        "plt.grid(True)\n",
        "plt.legend()\n",
        "plt.show()"
      ],
      "metadata": {
        "id": "jh-fwix8fYio"
      },
      "execution_count": null,
      "outputs": []
    }
  ]
}